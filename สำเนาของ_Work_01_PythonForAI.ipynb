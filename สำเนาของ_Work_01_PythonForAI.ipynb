{
  "nbformat": 4,
  "nbformat_minor": 0,
  "metadata": {
    "colab": {
      "provenance": [],
      "include_colab_link": true
    },
    "kernelspec": {
      "name": "python3",
      "display_name": "Python 3"
    },
    "language_info": {
      "name": "python"
    }
  },
  "cells": [
    {
      "cell_type": "markdown",
      "metadata": {
        "id": "view-in-github",
        "colab_type": "text"
      },
      "source": [
        "<a href=\"https://colab.research.google.com/github/Tawin55555/CS01-Tawin/blob/main/%E0%B8%AA%E0%B8%B3%E0%B9%80%E0%B8%99%E0%B8%B2%E0%B8%82%E0%B8%AD%E0%B8%87_Work_01_PythonForAI.ipynb\" target=\"_parent\"><img src=\"https://colab.research.google.com/assets/colab-badge.svg\" alt=\"Open In Colab\"/></a>"
      ]
    },
    {
      "cell_type": "markdown",
      "source": [
        "# **Syntax และ Structure: เข้าใจการใช้โครงสร้างพื้นฐาน เช่น ตัวแปร, คำสั่งควบคุม (if, for, while), ฟังก์ชัน, คลาส และออบเจกต์**"
      ],
      "metadata": {
        "id": "WCcWPfidst4Z"
      }
    },
    {
      "cell_type": "markdown",
      "source": [
        "# ตัวแปร (Variables)\n"
      ],
      "metadata": {
        "id": "fHz4xxeen4Om"
      }
    },
    {
      "cell_type": "code",
      "execution_count": null,
      "metadata": {
        "id": "VijOJ2wSmrAo"
      },
      "outputs": [],
      "source": [
        "# ตัวแปร x เป็นจำนวนเต็ม (integer)\n",
        "x =  1\n",
        "# ตัวแปร y เป็นจำนวนทศนิยม (float)\n",
        "y = 1.0\n",
        "# ตัวแปร name เป็นสตริง (string)\n",
        "name = (\"Hello\")\n",
        "# ตัวแปร is_active เป็นบูลีน (boolean)\n",
        "is_active = True\n",
        "# ตัวแปรแบบลิสต์ (List Variables)\n",
        "list = [1 , 2 , 3]"
      ]
    },
    {
      "cell_type": "markdown",
      "source": [
        "# คำสั่งควบคุม (Control Statements)"
      ],
      "metadata": {
        "id": "WqfwEPSjoQw9"
      }
    },
    {
      "cell_type": "code",
      "source": [
        "x = 10\n",
        "y = 5\n",
        "\n",
        "# if statement\n",
        "if x == 10:\n",
        "  print('True')\n",
        "\n",
        "# if-else statement\n",
        "if y == 5:\n",
        "  print(\"True\")\n",
        "else:\n",
        "  print(\"Flase\")\n",
        "\n",
        "# if-elif-else statement\n",
        "if x == 10:\n",
        "  print(\"x is 10\")\n",
        "elif x < 10:\n",
        " print(\"x is less than 10\")\n",
        "else:\n",
        "  print(\"x is greater than 10\")\n",
        "\n",
        "# Nested if statement\n",
        "if x >= 5:\n",
        "  if x > 5:\n",
        "    print(\"x are more than y\")\n",
        "  else:\n",
        "    print(\"x are equal or less than y\")\n",
        "else:\n",
        "  print(\"x are less than y\")\n",
        "\n",
        "# Short-hand if (ternary operator)\n",
        "z = 10\n",
        "if z > 10:\n",
        "    answer = \"greater than 10\"\n",
        "elif z < 10:\n",
        "    answer = \"less than 10\"\n",
        "else:\n",
        "    answer = \"equal to 10\"\n",
        "\n",
        "print(answer)\n",
        "\n"
      ],
      "metadata": {
        "id": "HZHLShHzoRt6",
        "colab": {
          "base_uri": "https://localhost:8080/"
        },
        "outputId": "3a9fde01-e3c7-4944-d15c-c02ef46260b4"
      },
      "execution_count": null,
      "outputs": [
        {
          "output_type": "stream",
          "name": "stdout",
          "text": [
            "True\n",
            "True\n",
            "x is 10\n",
            "x are more than y\n",
            "equal to 10\n"
          ]
        }
      ]
    },
    {
      "cell_type": "markdown",
      "source": [
        "\n",
        "# for loop"
      ],
      "metadata": {
        "id": "JVdctfCooxQ9"
      }
    },
    {
      "cell_type": "code",
      "source": [
        "# for loop with range()\n",
        "for x in range (1,11):\n",
        "  print(x)\n",
        "\n",
        "# for loop with range(start, stop, step)\n",
        "for i in range(1, 10, 2):\n",
        "  print(i, end=' ')\n",
        "\n",
        "# for loop with list\n",
        "mylist = [1, 2, 3, 4, 5]\n",
        "for item in mylist:\n",
        "    print(item)\n",
        "\n",
        "# for loop with tuple\n",
        "my_tuple = (1, 2, 3, 4, 5)\n",
        "for item in my_tuple:\n",
        "    print(item)\n",
        "\n",
        "# for loop with dictionary\n",
        "my_dict = {\"3\": 1, \"6\": 2, \"9\": 3}\n",
        "for key in my_dict:\n",
        "    print(key)\n",
        "\n",
        "# Nested for loop\n",
        "list_of_lists = [\n",
        "    [1, 2, 3],\n",
        "    [4, 5, 6],\n",
        "    [7, 8, 9]\n",
        "]\n",
        "\n",
        "for sublist in list_of_lists:\n",
        "    for item in sublist:\n",
        "        print(item, end=\" \")\n",
        "    print()\n"
      ],
      "metadata": {
        "id": "AAMYXm54oyK4",
        "colab": {
          "base_uri": "https://localhost:8080/"
        },
        "outputId": "816c2ab6-863b-4f04-dc28-deda372ea3d9"
      },
      "execution_count": null,
      "outputs": [
        {
          "output_type": "stream",
          "name": "stdout",
          "text": [
            "1\n",
            "2\n",
            "3\n",
            "4\n",
            "5\n",
            "6\n",
            "7\n",
            "8\n",
            "9\n",
            "10\n",
            "1 3 5 7 9 1\n",
            "2\n",
            "3\n",
            "4\n",
            "5\n",
            "1\n",
            "2\n",
            "3\n",
            "4\n",
            "5\n",
            "3\n",
            "6\n",
            "9\n",
            "1 2 3 \n",
            "4 5 6 \n",
            "7 8 9 \n"
          ]
        }
      ]
    },
    {
      "cell_type": "markdown",
      "source": [
        "# while loop"
      ],
      "metadata": {
        "id": "OwEH2I8vo2Z4"
      }
    },
    {
      "cell_type": "code",
      "source": [
        "count = 0\n",
        "\n",
        "# while loop\n",
        "while count < 5:\n",
        "    print(\"Count is:\", count)\n",
        "    count += 1\n",
        "\n",
        "# while loop with else\n",
        "while count < 5:\n",
        "    print(\"Count is:\", count)\n",
        "    count += 1\n",
        "else:\n",
        "    print(\"Count reached 5, exiting loop.\")\n",
        "\n",
        "# Nested while loop\n",
        "i = 1\n",
        "while i <= 3:\n",
        "    j = 1\n",
        "    while j <= 2:\n",
        "        print(f\"i = {i}, j = {j}\")\n",
        "        j += 1\n",
        "    i += 1"
      ],
      "metadata": {
        "id": "rdR78mDho5TD",
        "colab": {
          "base_uri": "https://localhost:8080/"
        },
        "outputId": "15fc88e7-0163-4b97-b9bf-7dd01f0cb68a"
      },
      "execution_count": 2,
      "outputs": [
        {
          "output_type": "stream",
          "name": "stdout",
          "text": [
            "Count is: 0\n",
            "Count is: 1\n",
            "Count is: 2\n",
            "Count is: 3\n",
            "Count is: 4\n",
            "Count reached 5, exiting loop.\n",
            "i = 1, j = 1\n",
            "i = 1, j = 2\n",
            "i = 2, j = 1\n",
            "i = 2, j = 2\n",
            "i = 3, j = 1\n",
            "i = 3, j = 2\n"
          ]
        }
      ]
    },
    {
      "cell_type": "markdown",
      "source": [
        "#การใช้ break และ continue ใน loop"
      ],
      "metadata": {
        "id": "cmNFRmuNqcr_"
      }
    },
    {
      "cell_type": "code",
      "source": [
        "# break in for loop\n",
        "for i in range(10):\n",
        "    if i == 5:\n",
        "        print(\"Breaking the loop.\")\n",
        "        break\n",
        "    print(\"Current value:\", i)\n",
        "\n",
        "\n",
        "# continue in for loop\n",
        "for i in range(10):\n",
        "    if i % 2 == 0:\n",
        "        continue\n",
        "    print(\"Current value:\", i)\n",
        "\n",
        "\n",
        "# break in while loop\n",
        "count = 0\n",
        "while count < 10:\n",
        "    if count == 5:\n",
        "        print(\"Breaking the loop.\")\n",
        "        break\n",
        "    print(\"Current count:\", count)\n",
        "    count += 1\n",
        "\n",
        "# continue in while loop\n",
        "count = 0\n",
        "\n",
        "while count < 10:\n",
        "    count += 1\n",
        "    if count % 2 == 0:\n",
        "        continue\n",
        "    print(\"Current count:\", count)\n"
      ],
      "metadata": {
        "id": "1N4dDaLGqeb3"
      },
      "execution_count": null,
      "outputs": []
    },
    {
      "cell_type": "markdown",
      "source": [
        "# ฟังก์ชัน (Functions)"
      ],
      "metadata": {
        "id": "XKE92_ifpAIy"
      }
    },
    {
      "cell_type": "code",
      "source": [
        "# ฟังก์ชันพื้นฐาน (Basic Function)\n",
        "\n",
        "def greet():\n",
        "    print(\"Hello, world!\")\n",
        "greet()\n",
        "\n",
        "# ฟังก์ชันที่รับพารามิเตอร์ (Function with Parameters)\n",
        "def add(a, b):\n",
        "    return a + b\n",
        "\n",
        "# Call the function\n",
        "result = add(5, 3)\n",
        "print(\"Sum:\", result)\n",
        "\n",
        "# ฟังก์ชันที่มีค่าเริ่มต้นให้กับพารามิเตอร์ (Function with Default Parameters)\n",
        "def greet(name=\"Guest\"):\n",
        "    print(f\"Hello, {name}!\")\n",
        "greet(\"Alice\")\n",
        "greet()\n",
        "\n",
        "# ฟังก์ชันที่มีการคืนค่ามากกว่าหนึ่งค่า (Function Returning Multiple Values)\n",
        "def calculate(a, b):\n",
        "    sum = a + b\n",
        "    difference = a - b\n",
        "    product = a * b\n",
        "    return sum, difference, product\n",
        "s, d, p = calculate(10, 5)\n",
        "print(\"Sum:\", s)\n",
        "print(\"Difference:\", d)\n",
        "print(\"Product:\", p)\n",
        "\n",
        "# ฟังก์ชันที่มีฟังก์ชันภายใน (Nested Functions)\n",
        "def outer_function(text):\n",
        "    def inner_function():\n",
        "        print(text)\n",
        "    inner_function()\n",
        "outer_function(\"Hello from the nested function!\")\n",
        "\n",
        "\n",
        "# ฟังก์ชันที่ส่งฟังก์ชันเป็นพารามิเตอร์ (Function as Argument)\n",
        "def apply_function(func, value):\n",
        "    return func(value)\n",
        "def square(x):\n",
        "    return x * x\n",
        "result = apply_function(square, 4)\n",
        "print(\"Square of 4:\", result)\n"
      ],
      "metadata": {
        "id": "BiPGM636pA1B",
        "colab": {
          "base_uri": "https://localhost:8080/"
        },
        "outputId": "f4b2d6d9-a78a-4fed-8669-245bb7a6de5e"
      },
      "execution_count": 3,
      "outputs": [
        {
          "output_type": "stream",
          "name": "stdout",
          "text": [
            "Hello, world!\n",
            "Sum: 8\n",
            "Hello, Alice!\n",
            "Hello, Guest!\n",
            "Sum: 15\n",
            "Difference: 5\n",
            "Product: 50\n",
            "Hello from the nested function!\n",
            "Square of 4: 16\n"
          ]
        }
      ]
    },
    {
      "cell_type": "markdown",
      "source": [
        "# คลาสและออบเจกต์ (Classes and Objects)"
      ],
      "metadata": {
        "id": "XjI2AZyMpRVa"
      }
    },
    {
      "cell_type": "code",
      "source": [
        "class Dog:\n",
        "    \"\"\"\n",
        "    คลาส Dog ที่มีคุณสมบัติ name และ age\n",
        "    และมีเมธอด bark ที่ใช้พิมพ์ข้อความ\n",
        "    \"\"\"\n",
        "    def __init__(self, name, age):\n",
        "        self.name = name\n",
        "        self.age = age\n",
        "\n",
        "    def bark(self):\n",
        "        print(f\"{self.name} says woof!\")\n",
        "\n",
        "my_dog = Dog(\"Buddy\", 3)\n",
        "print(f\"My dog's name is {my_dog.name} and it is {my_dog.age} years old.\")\n",
        "my_dog.bark()"
      ],
      "metadata": {
        "id": "Olxe5KwBpTjY",
        "colab": {
          "base_uri": "https://localhost:8080/"
        },
        "outputId": "5126dc6e-074f-4c21-a299-04506944456a"
      },
      "execution_count": 4,
      "outputs": [
        {
          "output_type": "stream",
          "name": "stdout",
          "text": [
            "My dog's name is Buddy and it is 3 years old.\n",
            "Buddy says woof!\n"
          ]
        }
      ]
    },
    {
      "cell_type": "code",
      "source": [],
      "metadata": {
        "id": "dLfKsP_seDoP"
      },
      "execution_count": null,
      "outputs": []
    },
    {
      "cell_type": "code",
      "source": [],
      "metadata": {
        "id": "vvaM-wmieD7k"
      },
      "execution_count": null,
      "outputs": []
    },
    {
      "cell_type": "markdown",
      "source": [
        "# **การจัดการข้อมูล: การใช้ list, tuple, dictionary, และ set**"
      ],
      "metadata": {
        "id": "xE4jMM_2spFt"
      }
    },
    {
      "cell_type": "markdown",
      "source": [
        "# การจัดการข้อมูลด้วย List"
      ],
      "metadata": {
        "id": "oEca6pcotB6u"
      }
    },
    {
      "cell_type": "code",
      "source": [
        "fruits = [\"apple\", \"banana\", \"cherry\"]\n",
        "print(\"Original fruits list:\", fruits)\n",
        "\n",
        "# เพิ่มค่าเข้าไปใน list\n",
        "fruits.append(\"orange\")\n",
        "print(\"After adding 'orange':\", fruits)\n",
        "\n",
        "# แก้ไขค่าภายใน list\n",
        "fruits[1] = \"blueberry\"\n",
        "print(\"After changing 'banana' to 'blueberry':\", fruits)\n",
        "\n",
        "# ลบค่าจาก list\n",
        "fruits.remove(\"cherry\")\n",
        "print(\"After removing 'cherry':\", fruits)\n",
        "\n",
        "# ลบค่าจาก list โดยใช้ pop\n",
        "popped_fruit = fruits.pop(0)  # ลบค่าที่ตำแหน่ง 0 (ตัวแรก)\n",
        "print(\"After popping the first fruit:\", fruits)\n",
        "print(\"Popped fruit:\", popped_fruit)\n",
        "\n",
        "# เข้าถึงค่าภายใน list\n",
        "first_fruit = fruits[0]\n",
        "print(\"First fruit in the list:\", first_fruit)\n",
        "\n",
        "# การวน loop ผ่าน list\n",
        "print(\"Looping through the list:\")\n",
        "for fruit in fruits:\n",
        "    print(fruit)\n"
      ],
      "metadata": {
        "id": "Oi4cB2yZtKjw",
        "colab": {
          "base_uri": "https://localhost:8080/"
        },
        "outputId": "8a95b88f-45d8-4e12-fe6e-87dab3218ecf"
      },
      "execution_count": 5,
      "outputs": [
        {
          "output_type": "stream",
          "name": "stdout",
          "text": [
            "Original fruits list: ['apple', 'banana', 'cherry']\n"
          ]
        }
      ]
    },
    {
      "cell_type": "markdown",
      "source": [
        "# การจัดการข้อมูลด้วย Tuple"
      ],
      "metadata": {
        "id": "kNMH4dhltPdO"
      }
    },
    {
      "cell_type": "code",
      "source": [
        "# การจัดการข้อมูลด้วย Tuple\n",
        "# Tuple คือการเก็บข้อมูลหลายค่าในตัวแปรเดียว แต่ไม่สามารถแก้ไขค่าได้\n",
        "colors = (\"red\", \"green\", \"blue\", \"yellow\")\n",
        "print(\"Colors tuple:\", colors)\n",
        "\n",
        "# เข้าถึงค่าภายใน tuple\n",
        "first_color = colors[0]\n",
        "print(\"First color:\", first_color)\n",
        "\n",
        "# ลองแก้ไขค่าภายใน tuple (จะเกิดข้อผิดพลาด)\n",
        "# colors[1] = \"yellow\"  # Uncomment เพื่อดูข้อผิดพลาด\n",
        "\n",
        "# การวน loop ผ่าน tuple\n",
        "print(\"Looping through the tuple:\")\n",
        "for color in colors:\n",
        "    print(color)\n"
      ],
      "metadata": {
        "id": "9hqYOnnHtSkp",
        "colab": {
          "base_uri": "https://localhost:8080/"
        },
        "outputId": "62331e79-bc11-463f-dcf4-31b6e3a314ea"
      },
      "execution_count": 10,
      "outputs": [
        {
          "output_type": "stream",
          "name": "stdout",
          "text": [
            "Colors tuple: ('red', 'green', 'blue', 'yellow')\n",
            "First color: red\n",
            "Looping through the tuple:\n",
            "red\n",
            "green\n",
            "blue\n",
            "yellow\n"
          ]
        }
      ]
    },
    {
      "cell_type": "markdown",
      "source": [
        "# การจัดการข้อมูลด้วย Dictionary"
      ],
      "metadata": {
        "id": "GU2cr-c3tcsf"
      }
    },
    {
      "cell_type": "code",
      "source": [
        "# การจัดการข้อมูลด้วย Dictionary\n",
        "# Dictionary คือการเก็บข้อมูลในรูปแบบคู่ของ key-value\n",
        "person = {\n",
        "    \"name\": \"Alice\",\n",
        "    \"age\": 30,\n",
        "    \"city\": \"Bangkok\"\n",
        "}\n",
        "print(\"Person dictionary:\", person)\n",
        "\n",
        "# เข้าถึงค่าภายใน dictionary ด้วย key\n",
        "name = person[\"name\"]\n",
        "print(\"Name:\", name)\n",
        "\n",
        "# แก้ไขค่าใน dictionary\n",
        "person[\"age\"] = 31\n",
        "print(\"After modification:\", person)\n",
        "\n",
        "# เพิ่มคู่ key-value ใน dictionary\n",
        "person[\"email\"] = \"alice@example.com\"\n",
        "print(\"After adding email:\", person)\n",
        "\n",
        "# ลบคู่ key-value ออกจาก dictionary\n",
        "del person[\"city\"]\n",
        "print(\"After deletion:\", person)\n",
        "\n",
        "# การวน loop ผ่าน dictionary\n",
        "for key, value in person.items():\n",
        "    print(f\"{key}: {value}\")"
      ],
      "metadata": {
        "id": "9_EvJCNstjfn",
        "colab": {
          "base_uri": "https://localhost:8080/"
        },
        "outputId": "46ba522c-ca58-4644-ddd6-f175040f93cb"
      },
      "execution_count": 12,
      "outputs": [
        {
          "output_type": "stream",
          "name": "stdout",
          "text": [
            "Person dictionary: {'name': 'Alice', 'age': 30, 'city': 'Bangkok'}\n",
            "Name: Alice\n",
            "After modification: {'name': 'Alice', 'age': 31, 'city': 'Bangkok'}\n",
            "After adding email: {'name': 'Alice', 'age': 31, 'city': 'Bangkok', 'email': 'alice@example.com'}\n",
            "After deletion: {'name': 'Alice', 'age': 31, 'email': 'alice@example.com'}\n",
            "name: Alice\n",
            "age: 31\n",
            "email: alice@example.com\n"
          ]
        }
      ]
    },
    {
      "cell_type": "markdown",
      "source": [
        "# การจัดการข้อมูลด้วย Set"
      ],
      "metadata": {
        "id": "eeEe9dRRto_M"
      }
    },
    {
      "cell_type": "code",
      "source": [
        "# การจัดการข้อมูลด้วย Set\n",
        "# Set คือการเก็บข้อมูลหลายค่าโดยที่ค่าจะไม่ซ้ำกัน\n",
        "unique_numbers = {1, 2, 3, 4, 4, 5}\n",
        "print(\"Unique numbers set:\", unique_numbers)  # ค่าใน set จะไม่ซ้ำกัน\n",
        "\n",
        "# เพิ่มค่าเข้าไปใน set\n",
        "unique_numbers.add(6)\n",
        "print(\"After add:\", unique_numbers)\n",
        "\n",
        "# ลบค่าออกจาก set\n",
        "unique_numbers.remove(1)\n",
        "print(\"After remove:\", unique_numbers)\n",
        "\n",
        "# การวน loop ผ่าน set\n",
        "for number in unique_numbers:\n",
        "    print(number)\n",
        "\n",
        "# เช็คการมีอยู่ของค่าภายใน set\n",
        "if 3 in unique_numbers:\n",
        "    print(\"3 is in the set\")\n",
        "else:\n",
        "    print(\"3 is not in the set\")"
      ],
      "metadata": {
        "id": "blebQcFstp2a",
        "colab": {
          "base_uri": "https://localhost:8080/"
        },
        "outputId": "5f30091e-f462-4bc2-e7ff-1cb16e2a604f"
      },
      "execution_count": 11,
      "outputs": [
        {
          "output_type": "stream",
          "name": "stdout",
          "text": [
            "Unique numbers set: {1, 2, 3, 4, 5}\n",
            "After add: {1, 2, 3, 4, 5, 6}\n",
            "After remove: {2, 3, 4, 5, 6}\n",
            "2\n",
            "3\n",
            "4\n",
            "5\n",
            "6\n",
            "3 is in the set\n"
          ]
        }
      ]
    }
  ]
}